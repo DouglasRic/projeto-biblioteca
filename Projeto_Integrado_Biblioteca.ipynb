{
  "nbformat": 4,
  "nbformat_minor": 0,
  "metadata": {
    "colab": {
      "provenance": []
    },
    "kernelspec": {
      "name": "python3",
      "display_name": "Python 3"
    },
    "language_info": {
      "name": "python"
    }
  },
  "cells": [
    {
      "cell_type": "markdown",
      "source": [
        "# Etapa 1: Criando as Classes"
      ],
      "metadata": {
        "id": "bJHhi2RyQWQ0"
      }
    },
    {
      "cell_type": "code",
      "execution_count": 1,
      "metadata": {
        "id": "fmQKGyxGQT-A"
      },
      "outputs": [],
      "source": [
        "# Classe Livro\n",
        "class Livro:\n",
        "    def __init__(self, titulo, autor, ano, copias):\n",
        "        self.titulo = titulo\n",
        "        self.autor = autor\n",
        "        self.ano = ano\n",
        "        self.copias = copias\n",
        "        self.copias_disponiveis = copias\n",
        "\n",
        "# Classe Usuario\n",
        "class Usuario:\n",
        "    def __init__(self, nome, id_usuario, contato):\n",
        "        self.nome = nome\n",
        "        self.id_usuario = id_usuario\n",
        "        self.contato = contato\n",
        "        self.livros_emprestados = []\n"
      ]
    },
    {
      "cell_type": "markdown",
      "source": [
        "# Etapa 2: Criando a Biblioteca (Gerenciador)"
      ],
      "metadata": {
        "id": "jWcUoJ-4QbtK"
      }
    },
    {
      "cell_type": "code",
      "source": [
        "class Biblioteca:\n",
        "    def __init__(self):\n",
        "        self.livros = []\n",
        "        self.usuarios = []\n",
        "\n",
        "    def cadastrar_livro(self, titulo, autor, ano, copias):\n",
        "        livro = Livro(titulo, autor, ano, copias)\n",
        "        self.livros.append(livro)\n",
        "        print(f\"Livro '{titulo}' cadastrado com sucesso!\")\n",
        "\n",
        "    def cadastrar_usuario(self, nome, id_usuario, contato):\n",
        "        usuario = Usuario(nome, id_usuario, contato)\n",
        "        self.usuarios.append(usuario)\n",
        "        print(f\"Usuário '{nome}' cadastrado com sucesso!\")\n",
        "\n",
        "    def emprestar_livro(self, id_usuario, titulo):\n",
        "        usuario = next((u for u in self.usuarios if u.id_usuario == id_usuario), None)\n",
        "        livro = next((l for l in self.livros if l.titulo.lower() == titulo.lower()), None)\n",
        "\n",
        "        if not usuario:\n",
        "            print(\"Usuário não encontrado.\")\n",
        "            return\n",
        "        if not livro:\n",
        "            print(\"Livro não encontrado.\")\n",
        "            return\n",
        "        if livro.copias_disponiveis == 0:\n",
        "            print(\"Livro indisponível para empréstimo.\")\n",
        "            return\n",
        "\n",
        "        livro.copias_disponiveis -= 1\n",
        "        usuario.livros_emprestados.append(livro.titulo)\n",
        "        print(f\"Livro '{titulo}' emprestado para {usuario.nome}.\")\n",
        "\n",
        "    def devolver_livro(self, id_usuario, titulo):\n",
        "        usuario = next((u for u in self.usuarios if u.id_usuario == id_usuario), None)\n",
        "        if not usuario:\n",
        "            print(\"Usuário não encontrado.\")\n",
        "            return\n",
        "        if titulo not in usuario.livros_emprestados:\n",
        "            print(\"Este livro não está emprestado para este usuário.\")\n",
        "            return\n",
        "\n",
        "        livro = next((l for l in self.livros if l.titulo.lower() == titulo.lower()), None)\n",
        "        if livro:\n",
        "            livro.copias_disponiveis += 1\n",
        "        usuario.livros_emprestados.remove(titulo)\n",
        "        print(f\"Livro '{titulo}' devolvido por {usuario.nome}.\")\n",
        "\n",
        "    def consultar_livros(self, termo):\n",
        "        resultados = [l for l in self.livros if termo.lower() in l.titulo.lower()\n",
        "                      or termo.lower() in l.autor.lower()\n",
        "                      or termo.lower() in str(l.ano)]\n",
        "        if resultados:\n",
        "            for l in resultados:\n",
        "                print(f\"{l.titulo} - {l.autor} ({l.ano}) | Disponíveis: {l.copias_disponiveis}\")\n",
        "        else:\n",
        "            print(\"Nenhum livro encontrado.\")\n",
        "\n",
        "    def gerar_relatorios(self):\n",
        "        print(\"\\n--- Relatório de Livros Disponíveis ---\")\n",
        "        for l in self.livros:\n",
        "            print(f\"{l.titulo} - {l.copias_disponiveis}/{l.copias} disponíveis\")\n",
        "\n",
        "        print(\"\\n--- Relatório de Usuários Cadastrados ---\")\n",
        "        for u in self.usuarios:\n",
        "            print(f\"{u.nome} (ID: {u.id_usuario}) | Livros emprestados: {u.livros_emprestados}\")\n"
      ],
      "metadata": {
        "id": "qnOSRfhQQfF_"
      },
      "execution_count": 2,
      "outputs": []
    },
    {
      "cell_type": "markdown",
      "source": [
        "# Etapa 3: Criando o Menu no Console"
      ],
      "metadata": {
        "id": "QiHAmkMoQi9_"
      }
    },
    {
      "cell_type": "code",
      "source": [
        "def menu():\n",
        "    biblioteca = Biblioteca()\n",
        "\n",
        "    while True:\n",
        "        print(\"\\n--- Sistema da Biblioteca ---\")\n",
        "        print(\"1. Cadastrar Livro\")\n",
        "        print(\"2. Cadastrar Usuário\")\n",
        "        print(\"3. Emprestar Livro\")\n",
        "        print(\"4. Devolver Livro\")\n",
        "        print(\"5. Consultar Livro\")\n",
        "        print(\"6. Gerar Relatórios\")\n",
        "        print(\"7. Sair\")\n",
        "\n",
        "        opcao = input(\"Escolha uma opção: \")\n",
        "\n",
        "        try:\n",
        "            if opcao == '1':\n",
        "                titulo = input(\"Título: \")\n",
        "                autor = input(\"Autor: \")\n",
        "                ano = int(input(\"Ano: \"))\n",
        "                copias = int(input(\"Número de cópias: \"))\n",
        "                biblioteca.cadastrar_livro(titulo, autor, ano, copias)\n",
        "\n",
        "            elif opcao == '2':\n",
        "                nome = input(\"Nome: \")\n",
        "                id_usuario = input(\"ID do usuário: \")\n",
        "                contato = input(\"Contato: \")\n",
        "                biblioteca.cadastrar_usuario(nome, id_usuario, contato)\n",
        "\n",
        "            elif opcao == '3':\n",
        "                id_usuario = input(\"ID do usuário: \")\n",
        "                titulo = input(\"Título do livro: \")\n",
        "                biblioteca.emprestar_livro(id_usuario, titulo)\n",
        "\n",
        "            elif opcao == '4':\n",
        "                id_usuario = input(\"ID do usuário: \")\n",
        "                titulo = input(\"Título do livro: \")\n",
        "                biblioteca.devolver_livro(id_usuario, titulo)\n",
        "\n",
        "            elif opcao == '5':\n",
        "                termo = input(\"Digite título, autor ou ano: \")\n",
        "                biblioteca.consultar_livros(termo)\n",
        "\n",
        "            elif opcao == '6':\n",
        "                biblioteca.gerar_relatorios()\n",
        "\n",
        "            elif opcao == '7':\n",
        "                print(\"Encerrando o sistema...\")\n",
        "                break\n",
        "\n",
        "            else:\n",
        "                print(\"Opção inválida.\")\n",
        "        except Exception as e:\n",
        "            print(f\"Erro: {e}\")\n",
        "\n",
        "menu()\n"
      ],
      "metadata": {
        "colab": {
          "base_uri": "https://localhost:8080/"
        },
        "id": "_sKgrwoaQlt_",
        "outputId": "0842b3fe-bfdf-4e17-d7ed-ef9afe411703"
      },
      "execution_count": null,
      "outputs": [
        {
          "output_type": "stream",
          "name": "stdout",
          "text": [
            "\n",
            "--- Sistema da Biblioteca ---\n",
            "1. Cadastrar Livro\n",
            "2. Cadastrar Usuário\n",
            "3. Emprestar Livro\n",
            "4. Devolver Livro\n",
            "5. Consultar Livro\n",
            "6. Gerar Relatórios\n",
            "7. Sair\n",
            "Escolha uma opção: 2\n",
            "Nome: Douglas Ricardo\n",
            "ID do usuário: 01\n",
            "Contato: 12 99999999\n",
            "Usuário 'Douglas Ricardo' cadastrado com sucesso!\n",
            "\n",
            "--- Sistema da Biblioteca ---\n",
            "1. Cadastrar Livro\n",
            "2. Cadastrar Usuário\n",
            "3. Emprestar Livro\n",
            "4. Devolver Livro\n",
            "5. Consultar Livro\n",
            "6. Gerar Relatórios\n",
            "7. Sair\n",
            "Escolha uma opção: 1\n",
            "Título: Harry Potter\n",
            "Autor: JK\n",
            "Ano: 2015\n",
            "Número de cópias: 3\n",
            "Livro 'Harry Potter' cadastrado com sucesso!\n",
            "\n",
            "--- Sistema da Biblioteca ---\n",
            "1. Cadastrar Livro\n",
            "2. Cadastrar Usuário\n",
            "3. Emprestar Livro\n",
            "4. Devolver Livro\n",
            "5. Consultar Livro\n",
            "6. Gerar Relatórios\n",
            "7. Sair\n",
            "Escolha uma opção: 6\n",
            "\n",
            "--- Relatório de Livros Disponíveis ---\n",
            "Harry Potter - 3/3 disponíveis\n",
            "\n",
            "--- Relatório de Usuários Cadastrados ---\n",
            "Douglas Ricardo (ID: 01) | Livros emprestados: []\n",
            "\n",
            "--- Sistema da Biblioteca ---\n",
            "1. Cadastrar Livro\n",
            "2. Cadastrar Usuário\n",
            "3. Emprestar Livro\n",
            "4. Devolver Livro\n",
            "5. Consultar Livro\n",
            "6. Gerar Relatórios\n",
            "7. Sair\n"
          ]
        }
      ]
    }
  ]
}